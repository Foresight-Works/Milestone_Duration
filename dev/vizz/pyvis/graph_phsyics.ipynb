{
 "cells": [
  {
   "cell_type": "markdown",
   "id": "4fd5904f",
   "metadata": {},
   "source": [
    "The physics options allowing the user to change interactively the way the nodes interact each other as if they were connected by springs and having other physical interactions.\n",
    "https://towardsdatascience.com/making-network-graphs-interactive-with-python-and-pyvis-b754c22c270"
   ]
  },
  {
   "cell_type": "markdown",
   "id": "eb9dff05",
   "metadata": {},
   "source": [
    "# Graph"
   ]
  },
  {
   "cell_type": "code",
   "execution_count": 1,
   "id": "582ca3d7",
   "metadata": {},
   "outputs": [],
   "source": [
    "import networkx as nx\n",
    "from pyvis import network as net \n",
    "from pyvis.network import Network\n",
    "from IPython.core.display import display, HTML\n",
    "G = nx.karate_club_graph()\n",
    "g4 = net.Network(height='400px', width='100%',notebook=True,heading='Karate Club graph')\n",
    "g4.from_nx(G)"
   ]
  },
  {
   "cell_type": "markdown",
   "id": "0c6db0bf",
   "metadata": {},
   "source": [
    "# Interactive setup"
   ]
  },
  {
   "cell_type": "code",
   "execution_count": 2,
   "id": "0373d3b4",
   "metadata": {
    "scrolled": true
   },
   "outputs": [
    {
     "data": {
      "text/html": [
       "\n",
       "        <iframe\n",
       "            width=\"100%\"\n",
       "            height=\"400px\"\n",
       "            src=\"karate.html\"\n",
       "            frameborder=\"0\"\n",
       "            allowfullscreen\n",
       "            \n",
       "        ></iframe>\n",
       "        "
      ],
      "text/plain": [
       "<IPython.lib.display.IFrame at 0x7fcf5c7d6d90>"
      ]
     },
     "execution_count": 2,
     "metadata": {},
     "output_type": "execute_result"
    }
   ],
   "source": [
    "g4.show_buttons(filter_=['physics'])\n",
    "g4.show('karate.html')"
   ]
  },
  {
   "cell_type": "code",
   "execution_count": null,
   "id": "26aa95cf",
   "metadata": {},
   "outputs": [],
   "source": [
    "# Options parameter setup"
   ]
  },
  {
   "cell_type": "code",
   "execution_count": null,
   "id": "2e4f538e",
   "metadata": {},
   "outputs": [],
   "source": [
    "g4.set_options('''\n",
    "var options = {\n",
    "    \"nodes\": {\n",
    "    \"borderWidth\": 2,\n",
    "    \"borderWidthSelected\": 4\n",
    "  },\n",
    "  \"edges\":{\n",
    "    \"width\":24\n",
    "  },\n",
    "  \"physics\": {\n",
    "    \"barnesHut\": {\n",
    "      \"gravitationalConstant\":-2000,\n",
    "      \"centralGravity\": 0,\n",
    "      \"springLength\": 60,\n",
    "      \"springConstant\": 0.545,\n",
    "      \"damping\": 0.1,\n",
    "      \"avoidOverlap\": 0.52\n",
    "    },\n",
    "    \"maxVelocity:\":50,\n",
    "    \"minVelocity\": 0.75,\n",
    "    \"timestep\": 0.5\n",
    "  }\n",
    "}\n",
    "''')"
   ]
  }
 ],
 "metadata": {
  "kernelspec": {
   "display_name": "Python 3 (ipykernel)",
   "language": "python",
   "name": "python3"
  },
  "language_info": {
   "codemirror_mode": {
    "name": "ipython",
    "version": 3
   },
   "file_extension": ".py",
   "mimetype": "text/x-python",
   "name": "python",
   "nbconvert_exporter": "python",
   "pygments_lexer": "ipython3",
   "version": "3.9.7"
  }
 },
 "nbformat": 4,
 "nbformat_minor": 5
}
