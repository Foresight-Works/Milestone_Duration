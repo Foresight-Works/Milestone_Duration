{
 "cells": [
  {
   "cell_type": "markdown",
   "id": "97278bc7",
   "metadata": {},
   "source": [
    "**set_options** overrides the default options object passed to the VisJS framework. \n",
    "The options are detailed in the VisJS docs: https://visjs.github.io/vis-network/docs/network/#options\n",
    "\n",
    "**Extended example**\": \n",
    "g4.set_options('''\n",
    "var options = {\n",
    "    \"nodes\": {\n",
    "    \"borderWidth\": 2,\n",
    "    \"borderWidthSelected\": 4\n",
    "  },\n",
    "  \"edges\":{\n",
    "    \"width\":24\n",
    "  },\n",
    "  \"physics\": {\n",
    "    \"barnesHut\": {\n",
    "      \"gravitationalConstant\":-2000,\n",
    "      \"centralGravity\": 0,\n",
    "      \"springLength\": 60,\n",
    "      \"springConstant\": 0.545,\n",
    "      \"damping\": 0.1,\n",
    "      \"avoidOverlap\": 0.52\n",
    "    },\n",
    "    \"maxVelocity:\":50,\n",
    "    \"minVelocity\": 0.75,\n",
    "    \"timestep\": 0.5\n",
    "  }\n",
    "}\n",
    "''')"
   ]
  },
  {
   "cell_type": "markdown",
   "id": "b8310929",
   "metadata": {},
   "source": [
    "# Default options"
   ]
  },
  {
   "cell_type": "code",
   "execution_count": 37,
   "id": "cfd0bf66",
   "metadata": {},
   "outputs": [
    {
     "data": {
      "text/html": [
       "\n",
       "        <iframe\n",
       "            width=\"500px\"\n",
       "            height=\"500px\"\n",
       "            src=\"nx.html\"\n",
       "            frameborder=\"0\"\n",
       "            allowfullscreen\n",
       "            \n",
       "        ></iframe>\n",
       "        "
      ],
      "text/plain": [
       "<IPython.lib.display.IFrame at 0x7f05e45d6400>"
      ]
     },
     "execution_count": 37,
     "metadata": {},
     "output_type": "execute_result"
    }
   ],
   "source": [
    "import networkx as nx\n",
    "from pyvis import network as net \n",
    "nx_graph = nx.cycle_graph(10)\n",
    "nt = net.Network(notebook=True)\n",
    "nt.from_nx(nx_graph)\n",
    "nt.show('nx.html')"
   ]
  },
  {
   "cell_type": "code",
   "execution_count": 50,
   "id": "5b67a168",
   "metadata": {},
   "outputs": [
    {
     "data": {
      "text/html": [
       "\n",
       "        <iframe\n",
       "            width=\"500px\"\n",
       "            height=\"500px\"\n",
       "            src=\"nx.html\"\n",
       "            frameborder=\"0\"\n",
       "            allowfullscreen\n",
       "            \n",
       "        ></iframe>\n",
       "        "
      ],
      "text/plain": [
       "<IPython.lib.display.IFrame at 0x7f05d4f2a700>"
      ]
     },
     "execution_count": 50,
     "metadata": {},
     "output_type": "execute_result"
    }
   ],
   "source": [
    "nt = net.Network(notebook=True)\n",
    "nt.from_nx(nx_graph)\n",
    "nt.set_options('''\n",
    "var options = {\n",
    "    \"nodes\": {\n",
    "    \"size\": 20,\n",
    "    \"shape\": \"triangle\",\n",
    "    \"width\":15,\n",
    "    \"font.size\":\"2\"\n",
    "      },\n",
    "      \"edges\":{\n",
    "        \"width\":5,\n",
    "        \"font.size\":\"20\"\n",
    "      }\n",
    "}\n",
    "''')\n",
    "nt.show('nx.html')"
   ]
  },
  {
   "cell_type": "markdown",
   "id": "2ec7ae2e",
   "metadata": {},
   "source": [
    "# Visual attributes "
   ]
  },
  {
   "cell_type": "code",
   "execution_count": 9,
   "id": "e94ccfd2",
   "metadata": {},
   "outputs": [
    {
     "data": {
      "text/html": [
       "\n",
       "        <iframe\n",
       "            width=\"100%\"\n",
       "            height=\"400px\"\n",
       "            src=\"nx.html\"\n",
       "            frameborder=\"0\"\n",
       "            allowfullscreen\n",
       "            \n",
       "        ></iframe>\n",
       "        "
      ],
      "text/plain": [
       "<IPython.lib.display.IFrame at 0x7f73301f3340>"
      ]
     },
     "execution_count": 9,
     "metadata": {},
     "output_type": "execute_result"
    }
   ],
   "source": [
    "from pyvis.network import Network\n",
    "from pyvis import network as net \n",
    "nt = Network(height='750px', width='100%', bgcolor='#222222', font_color='white')\n",
    "nt = net.Network(notebook=True, height='400px', width='100%', bgcolor='#222222', font_color='white')\n",
    "nt.from_nx(nx_graph)\n",
    "nt.show('nx.html')"
   ]
  }
 ],
 "metadata": {
  "kernelspec": {
   "display_name": "Python 3 (ipykernel)",
   "language": "python",
   "name": "python3"
  },
  "language_info": {
   "codemirror_mode": {
    "name": "ipython",
    "version": 3
   },
   "file_extension": ".py",
   "mimetype": "text/x-python",
   "name": "python",
   "nbconvert_exporter": "python",
   "pygments_lexer": "ipython3",
   "version": "3.9.7"
  }
 },
 "nbformat": 4,
 "nbformat_minor": 5
}
